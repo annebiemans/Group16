{
 "cells": [
  {
   "cell_type": "code",
   "execution_count": 1,
   "metadata": {},
   "outputs": [
    {
     "ename": "ModuleNotFoundError",
     "evalue": "No module named 'rdkit'",
     "output_type": "error",
     "traceback": [
      "\u001b[1;31m---------------------------------------------------------------------------\u001b[0m",
      "\u001b[1;31mModuleNotFoundError\u001b[0m                       Traceback (most recent call last)",
      "Cell \u001b[1;32mIn[1], line 2\u001b[0m\n\u001b[0;32m      1\u001b[0m \u001b[38;5;28;01mimport\u001b[39;00m \u001b[38;5;21;01mpandas\u001b[39;00m \u001b[38;5;28;01mas\u001b[39;00m \u001b[38;5;21;01mpd\u001b[39;00m\n\u001b[1;32m----> 2\u001b[0m \u001b[38;5;28;01mimport\u001b[39;00m \u001b[38;5;21;01mrdkit\u001b[39;00m\n\u001b[0;32m      3\u001b[0m \u001b[38;5;28;01mfrom\u001b[39;00m \u001b[38;5;21;01mrdkit\u001b[39;00m \u001b[38;5;28;01mimport\u001b[39;00m Chem\n\u001b[0;32m      4\u001b[0m \u001b[38;5;28;01mfrom\u001b[39;00m \u001b[38;5;21;01mrdkit\u001b[39;00m\u001b[38;5;21;01m.\u001b[39;00m\u001b[38;5;21;01mChem\u001b[39;00m \u001b[38;5;28;01mimport\u001b[39;00m AllChem\n",
      "\u001b[1;31mModuleNotFoundError\u001b[0m: No module named 'rdkit'"
     ]
    }
   ],
   "source": [
    "import pandas as pd\n",
    "import rdkit\n",
    "from rdkit import Chem\n",
    "from rdkit.Chem import AllChem\n",
    "from rdkit.Chem import Draw\n",
    "\n",
    "from sklearn.decomposition import PCA\n",
    "from sklearn.preprocessing import MinMaxScaler\n",
    "from sklearn.preprocessing import StandardScaler\n",
    "from sklearn.model_selection import train_test_split                                                                                                                                                                                                                                                                                                                                                                                              \n",
    "from sklearn.ensemble import RandomForestRegressor\n",
    "\n",
    "import seaborn as sns\n",
    "import numpy as np\n",
    "import matplotlib as plt\n",
    "\n",
    "import scipy.stats as stats"
   ]
  },
  {
   "cell_type": "code",
   "execution_count": null,
   "metadata": {},
   "outputs": [],
   "source": [
    "df_molecules = pd.read_csv('filtered_molecules.csv')\n",
    "df_descriptors = df_molecules.drop(\"SMILES\", axis=1)"
   ]
  },
  {
   "cell_type": "code",
   "execution_count": null,
   "metadata": {},
   "outputs": [],
   "source": [
    "# Function to check if a column contains only binary data\n",
    "def is_binary_column(col):\n",
    "    return col.dropna().isin([0, 1,2,3,4,5,6,7,8,9,10,11,12,13,14,15]).all()\n",
    "\n",
    "print(is_binary_column(df_descriptors['qed']))\n",
    "\n",
    "df_fr = pd.DataFrame()\n",
    "df_non_binary = pd.DataFrame()\n",
    "non_binary = []\n",
    "# Check each column for binary data\n",
    "for col in df_descriptors.columns:\n",
    "    if is_binary_column(df_descriptors[col]):\n",
    "        #df_non_binary[col].drop(col, axis=1)\n",
    "        #df_non_binary = df_non_binary.drop(columns=[col])\n",
    "        df_fr[col]=df_descriptors[col]\n",
    "    else:\n",
    "        non_binary.append(col)\n",
    "\n",
    "print(non_binary)\n",
    "df_non_binary[non_binary]=df_descriptors[non_binary]\n",
    "df_non_binary.head()"
   ]
  },
  {
   "cell_type": "code",
   "execution_count": null,
   "metadata": {},
   "outputs": [],
   "source": [
    "print(df_descriptors.columns)"
   ]
  },
  {
   "cell_type": "code",
   "execution_count": null,
   "metadata": {},
   "outputs": [],
   "source": [
    "df_descriptors = df_descriptors.dropna()  # Delete all rows with missing values \n",
    "print(df_descriptors.describe())  # gives: mean, std, min, 25%, 505 75% and max values \n",
    "\n",
    "# Scaling the data\n",
    "scaler = StandardScaler()\n",
    "scaled = scaler.fit_transform(df_descriptors)\n",
    "\n",
    "# Convert the scaled data back to a DataFrame\n",
    "df_scaled = pd.DataFrame(scaled, index=df_descriptors.index, columns=df_descriptors.columns)\n",
    "\n",
    "# Applying PCA and finding the variance\n",
    "pca = PCA()\n",
    "pca.fit(df_scaled)\n",
    "df_scaled.head()\n",
    "sns.boxplot(data=df_fr)\n",
    "\n"
   ]
  },
  {
   "cell_type": "code",
   "execution_count": null,
   "metadata": {},
   "outputs": [],
   "source": [
    "z_scores = stats.zscore(df_descriptors)\n",
    "\n",
    "threshold = 0.5\n",
    "outlier = np.abs(z_scores) > threshold\n",
    "df_outliers = df_molecules[outlier]\n",
    "df_outliers = df_outliers.dropna(how='all')\n",
    "df_outliers.head()\n"
   ]
  }
 ],
 "metadata": {
  "kernelspec": {
   "display_name": "Python 3 (ipykernel)",
   "language": "python",
   "name": "python3"
  },
  "language_info": {
   "codemirror_mode": {
    "name": "ipython",
    "version": 3
   },
   "file_extension": ".py",
   "mimetype": "text/x-python",
   "name": "python",
   "nbconvert_exporter": "python",
   "pygments_lexer": "ipython3",
   "version": "3.11.5"
  }
 },
 "nbformat": 4,
 "nbformat_minor": 2
}
